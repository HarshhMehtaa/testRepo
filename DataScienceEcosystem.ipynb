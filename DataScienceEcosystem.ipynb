{
 "cells": [
  {
   "cell_type": "markdown",
   "id": "1df56fe9-71ab-45b1-aa1d-ad88a43057fe",
   "metadata": {},
   "source": [
    "# Data Science Tools and Ecosystem"
   ]
  },
  {
   "cell_type": "markdown",
   "id": "89fa4986-b13c-48f6-91e7-dfc63b1f088d",
   "metadata": {},
   "source": [
    "## In this notebook, Data Science Tools and Ecosystem are summarized."
   ]
  },
  {
   "cell_type": "markdown",
   "id": "70e9fa4a-079a-4cb1-91b3-87078d4041e8",
   "metadata": {},
   "source": [
    "### Some of the popular languages that Data Scientists use are:\n",
    "1. Python\n",
    "1. Scala\n",
    "1. SQL"
   ]
  },
  {
   "cell_type": "markdown",
   "id": "6ce541a1-e2a8-4f02-9546-aa9fa4156ccc",
   "metadata": {},
   "source": [
    "### Some of the commonly used libraries used by Data Scientists include:\n",
    "1. pandas\n",
    "1. numpy\n",
    "1. scikit-learn"
   ]
  },
  {
   "cell_type": "markdown",
   "id": "c34d5179-535d-4135-99a5-8164a5863bf2",
   "metadata": {},
   "source": [
    "| Data Science Tools |\n",
    "| ------------------ |\n",
    "| Jupyter Notebook |\n",
    "| IBM Watson Studio |\n",
    "| Spyder |"
   ]
  },
  {
   "cell_type": "markdown",
   "id": "ec63f548-f1e4-4e93-b0f8-cc53aa987ed3",
   "metadata": {},
   "source": [
    "### Below are a few examples of evaluating arithmetic expressions in Python\n",
    "\n",
    "1. 4*3\n",
    "1. 4+6"
   ]
  },
  {
   "cell_type": "code",
   "execution_count": 16,
   "id": "6d1b6d89-1459-4fa0-9c28-874cd02e5d3d",
   "metadata": {},
   "outputs": [
    {
     "data": {
      "text/plain": [
       "17"
      ]
     },
     "execution_count": 16,
     "metadata": {},
     "output_type": "execute_result"
    }
   ],
   "source": [
    "# This a simple arithmetic expression to mutiply then add integers\n",
    "(3*4)+5"
   ]
  },
  {
   "cell_type": "code",
   "execution_count": 18,
   "id": "30684010-aa39-43b4-aff7-a6bcc38d2866",
   "metadata": {},
   "outputs": [
    {
     "data": {
      "text/plain": [
       "3.3333333333333335"
      ]
     },
     "execution_count": 18,
     "metadata": {},
     "output_type": "execute_result"
    }
   ],
   "source": [
    "# This will convert 200 minutes to hours by diving by 60\n",
    "200/60"
   ]
  },
  {
   "cell_type": "markdown",
   "id": "0eac4ebe-214c-444c-9860-b8ab48e50256",
   "metadata": {},
   "source": [
    "**Objectives:**\n",
    "+ List popular languages for Data Science\n",
    "+ List commonly used libraries for Data Science\n",
    "+ Get used to mathematical operations in Jupyter Notebook\n",
    "+ Different uses of markdown"
   ]
  },
  {
   "cell_type": "markdown",
   "id": "16ebe3bb-df57-4893-b986-b29847d545fc",
   "metadata": {},
   "source": [
    "## Author\n",
    "Harsh Mehta"
   ]
  }
 ],
 "metadata": {
  "kernelspec": {
   "display_name": "Python [conda env:base] *",
   "language": "python",
   "name": "conda-base-py"
  },
  "language_info": {
   "codemirror_mode": {
    "name": "ipython",
    "version": 3
   },
   "file_extension": ".py",
   "mimetype": "text/x-python",
   "name": "python",
   "nbconvert_exporter": "python",
   "pygments_lexer": "ipython3",
   "version": "3.12.7"
  }
 },
 "nbformat": 4,
 "nbformat_minor": 5
}
